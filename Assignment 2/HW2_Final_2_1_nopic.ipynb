{
  "nbformat": 4,
  "nbformat_minor": 0,
  "metadata": {
    "colab": {
      "name": "HW2_Final_2_1.ipynb",
      "provenance": [],
      "collapsed_sections": [
        "7XCqvVbVOeCt"
      ]
    },
    "kernelspec": {
      "display_name": "Python 3",
      "language": "python",
      "name": "python3"
    },
    "language_info": {
      "codemirror_mode": {
        "name": "ipython",
        "version": 3
      },
      "file_extension": ".py",
      "mimetype": "text/x-python",
      "name": "python",
      "nbconvert_exporter": "python",
      "pygments_lexer": "ipython3",
      "version": "3.6.12"
    },
    "varInspector": {
      "cols": {
        "lenName": 16,
        "lenType": 16,
        "lenVar": 40
      },
      "kernels_config": {
        "python": {
          "delete_cmd_postfix": "",
          "delete_cmd_prefix": "del ",
          "library": "var_list.py",
          "varRefreshCmd": "print(var_dic_list())"
        },
        "r": {
          "delete_cmd_postfix": ") ",
          "delete_cmd_prefix": "rm(",
          "library": "var_list.r",
          "varRefreshCmd": "cat(var_dic_list()) "
        }
      },
      "types_to_exclude": [
        "module",
        "function",
        "builtin_function_or_method",
        "instance",
        "_Feature"
      ],
      "window_display": false
    }
  },
  "cells": [
    {
      "cell_type": "markdown",
      "metadata": {
        "id": "qSfK3TzzOeBK"
      },
      "source": [
        "# Fundamentals of Data Science\n",
        "Winter Semester 2020\n",
        "\n",
        "## Prof. Fabio Galasso, Alessandro Flaborea and Luca Franco\n",
        "\n",
        "## Exercise 2"
      ]
    },
    {
      "cell_type": "markdown",
      "metadata": {
        "id": "laIa2DFiOeBL"
      },
      "source": [
        "In Exercise 2, you will re-derive and implement logistic regression and optimize the parameters with Gradient Descent and with the Newton's method. Also, in this exercise you will re-derive and implement Gassian Discriminant Analysis.\n",
        "We will use the files logistic_x.txt and logistic_y.txt. The first contains the feature values $x^{(i)}_1$ and $x^{(i)}_2$ for the $i$-th data sample $x^{(i)}$. The second contains the ground truth label $y^{(i)}$ for each corresponding data sample.\n",
        "\n",
        "Note that, differently from what seen in lecture, $y^{(i)}\\in \\{-1,1\\}$.\n",
        "\n",
        "The completed exercise should be handed in as a single notebook file. Use Markdown to provide equations. Use the code sections to provide your scripts and the corresponding plots.\n",
        "Submit it by sending an email to galasso@di.uniroma1.it, flaborea.1841969@studenti.uniroma1.it and franco.luca.17@gmail.com by Wednesday November 25th, 23:59."
      ]
    },
    {
      "cell_type": "markdown",
      "metadata": {
        "id": "LK9pUVWmOeBM"
      },
      "source": [
        "## Notation\n",
        "\n",
        "- $x^i$ is the $i^{th}$ feature vector\n",
        "- $y^i$ is the expected outcome for the $i^{th}$ training example\n",
        "- $m$ is the number of training examples\n",
        "- $n$ is the number of features\n",
        "\n",
        "Let's start by setting up our Python environment and importing the required libraries:"
      ]
    },
    {
      "cell_type": "markdown",
      "metadata": {
        "id": "vpM7R9w8OeBN"
      },
      "source": [
        "\n",
        "## [15 points] Question 1: Logistic Regression with Gradient Ascent"
      ]
    },
    {
      "cell_type": "markdown",
      "metadata": {
        "id": "96Z43pcuOeBN"
      },
      "source": [
        "### (a) [5 points] Equations for the log likelihood, its gradient, and the gradient ascent update rule.\n",
        "\n",
        "Write and simplify the likelihood $L(\\theta)$ and log-likelihood $l(\\theta)$ of the parameters $\\theta$.\n",
        "\n",
        "Recall the probabilistic interpretation of the hypothesis $h_\\theta(x)= P(y=1|x;\\theta)$ and that $h_\\theta(x)=\\frac{1}{1+\\exp(-\\theta^T x)}$.\n",
        "\n",
        "Also derive the gradient $\\frac{\\delta l(\\theta)}{\\delta \\theta_j}$ of $l(\\theta)$ and write the gradient update equation. \n",
        "\n",
        "Question: in order to learn the optimal $\\theta$, do you need to minimize or to maximize $l(\\theta)$?"
      ]
    },
    {
      "cell_type": "markdown",
      "metadata": {
        "id": "ryllEcxDOeBO"
      },
      "source": [
        "################# Do not write above this line #################"
      ]
    },
    {
      "cell_type": "markdown",
      "metadata": {
        "id": "e8dqyQTnQ9Nx"
      },
      "source": [
        "__Likelihood $L(\\theta)$__: <br>\n",
        "We start from the assumption <hr>\n",
        "<center> $y^{(i)} = h_\\theta(x)+\\epsilon^{(i)}$ </center>. <br>\n",
        "$\\alpha(\\theta)$ by definition is  $P(y| x; \\theta)$; since we assumed the $\\epsilon^{(i)}$ independent identically distribuited we get <hr>\n",
        "<center>$\\prod_{i=1}^m P(y^{(i)}| x^{(i)}; \\theta)$ </center>\n",
        "\n",
        "In general we can write $P(y| x; \\theta) = h_{\\theta}(x)^{\\frac{1+y}{2}}(1-h_{\\theta}(x))^{\\frac{1-y}{2}}$, so we have <hr>\n",
        "\n",
        "<center>$\\prod_{i=1}^m h_{\\theta}(x^{(i)})^{\\frac{1+y^{(i)}}{2}}(1-h_{\\theta}(x^{(i)})^{\\frac{1-y^{(i)}}{2}}$ </center> <hr>\n",
        "\n",
        "We can explicitely write its formulation given $h_\\theta(x) = g(\\Theta^Tx) = \\frac{1}{1+e^{-\\Theta^{T}x}}$ : <hr>\n",
        "\n",
        "<center> $\\prod_{i=1}^m \\left(\\frac{1}{1+e^{-\\Theta^Tx^{(i)}}}\\right)^{\\frac{y^{(i)}+1}{2}}\\left(1-\\frac{1}{1+e^{\\Theta^Tx^{(i)}}}\\right)^{\\frac{{1-y^{(i)}}}{2}}$ </center>\n",
        "\n"
      ]
    },
    {
      "cell_type": "markdown",
      "metadata": {
        "id": "JK99BlKfQ9Nx"
      },
      "source": [
        "__log-likelihood $l(\\theta)$__ :<br>\n",
        "To compute $log \\alpha(\\theta) = l(\\theta)$ we use the properties of the logarithm and we obtain\n",
        "<center> $ \\sum_{i=1}^m\\frac{y^{(i)}+1}{2} log \\left(h_\\theta(x^{(i)})\\right) + \\frac{{1-y^{(i)}}}{2} log\\left(1-h_\\theta(x^{(i)})\\right)$. </center>\n",
        "\n",
        "Its explicit formulation is \n",
        "\n",
        "<center> $\\sum_{i=1}^m \\frac{y^{(i)}+1}{2}log\\left(\\frac{1}{1+e^{-\\Theta^Tx^{(i)}}}\\right) + \\frac{{1-y^{(i)}}}{2} log \\left(1-\\frac{1}{1+e^{\\Theta^Tx^{(i)}}}\\right)$ </center>\n",
        "\n",
        "\n"
      ]
    },
    {
      "cell_type": "markdown",
      "metadata": {
        "id": "dhwnzLZ_Q9Nx"
      },
      "source": [
        "__Hypothesis Function__:<br>\n",
        "In a first moment we saw the hypothesis function in the continuous case with linear regression, so $h_\\theta(x)$ could assume value outside the range $(0,1)$. In logistic regression, the target values are in a discrete set, in our specific case they can assume value -1 or 1. For this reason we need an hypothesis such that $h_\\theta(x) \\in [0,1]$. For this reason we use the _logistic function g_ : $g(z)=\\frac{1}{1+e^{-z}}$, in particular we compute $g(\\Theta^Tx)$ and this is our hypothesis function in the case of two classes that in our case will be -1 and 1.\n",
        "<center> $h_\\theta(x)= \\frac{1}{1+e^{-\\Theta^Tx}}$ </center> <hr>\n",
        "We can interpret the hypothesis $h_\\theta(x)= P(y=1|x;\\theta)$ as the estimated probability that $y=1$ on the input $\\vec{x}$. <br>\n",
        "Since that, by the law of total probability, we have \n",
        "<center> $P(y=1|x;\\theta)+P(y=-1|x;\\theta)=1$.</center>\n",
        "We predict $y=1$ if $h_\\theta(x)$ is above a certain treshold and $y=-1$ otherwise."
      ]
    },
    {
      "cell_type": "markdown",
      "metadata": {
        "id": "9v_vQVLIQ9Nx"
      },
      "source": [
        "__Gradient of $log(\\theta)$__: <br>\n",
        "Since $log(\\theta)$ is a concave function we try to converge to its maximum using the _gradient ascent_ algorithm, where the update equation is:\n",
        "<center> $\\theta_j := \\theta_j + \\alpha \\frac{\\delta l(\\theta)}{\\delta \\theta_j}$ </center> \n",
        "With the derivative computed we have :\n",
        "<center> $\\theta_j := \\theta_j + \\alpha \\sum_{i=1}^m \\frac{x_j^{(i)}}{2}\\left(y^{(i)}+1-h_\\theta(x^{(i)}\\right)$ </center> \n"
      ]
    },
    {
      "cell_type": "markdown",
      "metadata": {
        "id": "zMHZoyDLQ9Nx"
      },
      "source": [
        "__Question__: <br>\n",
        "We need to maximize $l(\\theta)$ since it is a concave function and for this reason we use the gradient ascent."
      ]
    },
    {
      "cell_type": "markdown",
      "metadata": {
        "id": "yEco3MQ1OeBP"
      },
      "source": [
        "################# Do not write below this line #################"
      ]
    },
    {
      "cell_type": "markdown",
      "metadata": {
        "id": "4nCv4HmWOeBP"
      },
      "source": [
        "### (b) [10 points] Implementation of logistic regression with Gradient Ascent\n",
        "\n",
        "Code up the equations above to learn the logistic regression parameters. Consider as data the files logistic_x.txt and logistic_y.txt. The first contains the feature values $x^{(i)}_1$ and $x^{(i)}_2$ for the $i$-th data sample $x^{(i)}$. The second contains the ground truth label $y^{(i)}$ for each corresponding data sample."
      ]
    },
    {
      "cell_type": "code",
      "metadata": {
        "id": "n9qXilF-OeBQ"
      },
      "source": [
        "%matplotlib inline\n",
        "import numpy as np # imports a fast numerical programming library\n",
        "import scipy as sp # imports stats functions, amongst other things\n",
        "import matplotlib as mpl # this actually imports matplotlib\n",
        "import matplotlib.cm as cm # allows us easy access to colormaps\n",
        "import matplotlib.pyplot as plt # sets up plotting under plt\n",
        "import pandas as pd # lets us handle data as dataframes\n",
        "import math\n",
        "# sets up pandas table display\n",
        "pd.set_option('display.width', 500)\n",
        "pd.set_option('display.max_columns', 100)\n",
        "pd.set_option('display.notebook_repr_html', True)\n",
        "\n",
        "import seaborn as sns # sets up styles and gives us more plotting options"
      ],
      "execution_count": null,
      "outputs": []
    },
    {
      "cell_type": "markdown",
      "metadata": {
        "id": "bBZrP2jQOeBU"
      },
      "source": [
        "Let's start by loading the data into two pandas DataFrames:"
      ]
    },
    {
      "cell_type": "code",
      "metadata": {
        "colab": {
          "base_uri": "https://localhost:8080/",
          "height": 203
        },
        "id": "AIYevbmGOeBU",
        "outputId": "754a01ff-66bb-487d-99ac-bd7be41f4183"
      },
      "source": [
        "df_x = pd.read_csv(\"logistic_x.txt\", sep=\"\\ +\", names=[\"x1\",\"x2\"], header=None, engine='python')\n",
        "df_y = pd.read_csv('logistic_y.txt', sep='\\ +', names=[\"y\"], header=None, engine='python')\n",
        "df_y = df_y.astype(int)\n",
        "df_x.head()"
      ],
      "execution_count": null,
      "outputs": [
        {
          "data": {
            "text/html": [
              "<div>\n",
              "<style scoped>\n",
              "    .dataframe tbody tr th:only-of-type {\n",
              "        vertical-align: middle;\n",
              "    }\n",
              "\n",
              "    .dataframe tbody tr th {\n",
              "        vertical-align: top;\n",
              "    }\n",
              "\n",
              "    .dataframe thead th {\n",
              "        text-align: right;\n",
              "    }\n",
              "</style>\n",
              "<table border=\"1\" class=\"dataframe\">\n",
              "  <thead>\n",
              "    <tr style=\"text-align: right;\">\n",
              "      <th></th>\n",
              "      <th>x1</th>\n",
              "      <th>x2</th>\n",
              "    </tr>\n",
              "  </thead>\n",
              "  <tbody>\n",
              "    <tr>\n",
              "      <th>0</th>\n",
              "      <td>1.343250</td>\n",
              "      <td>-1.331148</td>\n",
              "    </tr>\n",
              "    <tr>\n",
              "      <th>1</th>\n",
              "      <td>1.820553</td>\n",
              "      <td>-0.634668</td>\n",
              "    </tr>\n",
              "    <tr>\n",
              "      <th>2</th>\n",
              "      <td>0.986321</td>\n",
              "      <td>-1.888576</td>\n",
              "    </tr>\n",
              "    <tr>\n",
              "      <th>3</th>\n",
              "      <td>1.944373</td>\n",
              "      <td>-1.635452</td>\n",
              "    </tr>\n",
              "    <tr>\n",
              "      <th>4</th>\n",
              "      <td>0.976734</td>\n",
              "      <td>-1.353315</td>\n",
              "    </tr>\n",
              "  </tbody>\n",
              "</table>\n",
              "</div>"
            ],
            "text/plain": [
              "         x1        x2\n",
              "0  1.343250 -1.331148\n",
              "1  1.820553 -0.634668\n",
              "2  0.986321 -1.888576\n",
              "3  1.944373 -1.635452\n",
              "4  0.976734 -1.353315"
            ]
          },
          "execution_count": 2,
          "metadata": {},
          "output_type": "execute_result"
        }
      ]
    },
    {
      "cell_type": "code",
      "metadata": {
        "colab": {
          "base_uri": "https://localhost:8080/",
          "height": 203
        },
        "id": "yzWVpxZKOeBY",
        "outputId": "087f03ed-90c2-43ba-ecc0-4e1eede2698e"
      },
      "source": [
        "df_y.head()"
      ],
      "execution_count": null,
      "outputs": [
        {
          "data": {
            "text/html": [
              "<div>\n",
              "<style scoped>\n",
              "    .dataframe tbody tr th:only-of-type {\n",
              "        vertical-align: middle;\n",
              "    }\n",
              "\n",
              "    .dataframe tbody tr th {\n",
              "        vertical-align: top;\n",
              "    }\n",
              "\n",
              "    .dataframe thead th {\n",
              "        text-align: right;\n",
              "    }\n",
              "</style>\n",
              "<table border=\"1\" class=\"dataframe\">\n",
              "  <thead>\n",
              "    <tr style=\"text-align: right;\">\n",
              "      <th></th>\n",
              "      <th>y</th>\n",
              "    </tr>\n",
              "  </thead>\n",
              "  <tbody>\n",
              "    <tr>\n",
              "      <th>0</th>\n",
              "      <td>-1</td>\n",
              "    </tr>\n",
              "    <tr>\n",
              "      <th>1</th>\n",
              "      <td>-1</td>\n",
              "    </tr>\n",
              "    <tr>\n",
              "      <th>2</th>\n",
              "      <td>-1</td>\n",
              "    </tr>\n",
              "    <tr>\n",
              "      <th>3</th>\n",
              "      <td>-1</td>\n",
              "    </tr>\n",
              "    <tr>\n",
              "      <th>4</th>\n",
              "      <td>-1</td>\n",
              "    </tr>\n",
              "  </tbody>\n",
              "</table>\n",
              "</div>"
            ],
            "text/plain": [
              "   y\n",
              "0 -1\n",
              "1 -1\n",
              "2 -1\n",
              "3 -1\n",
              "4 -1"
            ]
          },
          "execution_count": 3,
          "metadata": {},
          "output_type": "execute_result"
        }
      ]
    },
    {
      "cell_type": "markdown",
      "metadata": {
        "id": "dvJngk29OeBb"
      },
      "source": [
        "Let's get the NumPy arrays from the dataset, and add a column of 1's to $X$ to take into account the zero intercept"
      ]
    },
    {
      "cell_type": "code",
      "metadata": {
        "id": "s2Jz97G4OeBb"
      },
      "source": [
        "x = np.hstack([np.ones((df_x.shape[0], 1)), df_x[[\"x1\",\"x2\"]].values])\n",
        "y = df_y[\"y\"].values"
      ],
      "execution_count": null,
      "outputs": []
    },
    {
      "cell_type": "markdown",
      "metadata": {
        "id": "JyWYlB43OeBe"
      },
      "source": [
        "Adjust y so that $y^{(i)}\\in [0,1]$"
      ]
    },
    {
      "cell_type": "markdown",
      "metadata": {
        "id": "S5njaB8wOeBe"
      },
      "source": [
        "################# Do not write above this line #################"
      ]
    },
    {
      "cell_type": "markdown",
      "metadata": {
        "id": "kl6TZcBYOeBf"
      },
      "source": [
        "Your code here"
      ]
    },
    {
      "cell_type": "code",
      "metadata": {
        "id": "XhBv7Rh6Q9N0"
      },
      "source": [
        "for i in range(len(y)):\n",
        "    if y[i]==-1:\n",
        "        y[i]=0\n"
      ],
      "execution_count": null,
      "outputs": []
    },
    {
      "cell_type": "markdown",
      "metadata": {
        "id": "eh_JgsQoOeBi"
      },
      "source": [
        "################# Do not write below this line #################"
      ]
    },
    {
      "cell_type": "code",
      "metadata": {
        "colab": {
          "base_uri": "https://localhost:8080/",
          "height": 185
        },
        "id": "_S8E0b9_OeBj",
        "outputId": "8c33615a-da97-48e0-8ca4-2f64b60b1093"
      },
      "source": [
        "[x[:5,:],x[-5:,:]] # Plot the first and last 5 lines of x, now containing features x0 (constant=1), x1 and x2"
      ],
      "execution_count": null,
      "outputs": [
        {
          "data": {
            "text/plain": [
              "[array([[ 1.        ,  1.3432504 , -1.3311479 ],\n",
              "        [ 1.        ,  1.8205529 , -0.6346681 ],\n",
              "        [ 1.        ,  0.98632067, -1.8885762 ],\n",
              "        [ 1.        ,  1.9443734 , -1.635452  ],\n",
              "        [ 1.        ,  0.97673352, -1.3533151 ]]),\n",
              " array([[ 1.        ,  4.7748538 ,  0.09941521],\n",
              "        [ 1.        ,  5.8274854 , -0.69005848],\n",
              "        [ 1.        ,  2.2894737 ,  1.9707602 ],\n",
              "        [ 1.        ,  2.494152  ,  1.4152047 ],\n",
              "        [ 1.        ,  2.0847953 ,  1.3567251 ]])]"
            ]
          },
          "execution_count": 6,
          "metadata": {},
          "output_type": "execute_result"
        }
      ]
    },
    {
      "cell_type": "code",
      "metadata": {
        "colab": {
          "base_uri": "https://localhost:8080/",
          "height": 34
        },
        "id": "DZFFdmUqOeBm",
        "outputId": "e68613e6-4b26-4d1b-e22e-3f9b82e8b3cc"
      },
      "source": [
        "[y[:5],y[-5:]] # Plot the first and last 5 lines of y"
      ],
      "execution_count": null,
      "outputs": [
        {
          "data": {
            "text/plain": [
              "[array([0, 0, 0, 0, 0]), array([1, 1, 1, 1, 1])]"
            ]
          },
          "execution_count": 7,
          "metadata": {},
          "output_type": "execute_result"
        }
      ]
    },
    {
      "cell_type": "markdown",
      "metadata": {
        "id": "qe5LdnkmOeBo"
      },
      "source": [
        "Define the sigmoid function \"sigmoid\", the function to compute the gradient of the log likelihood  \"grad_l\" and the gradient ascent algorithm."
      ]
    },
    {
      "cell_type": "markdown",
      "metadata": {
        "id": "iK3e_-LmOeBp"
      },
      "source": [
        "################# Do not write above this line #################"
      ]
    },
    {
      "cell_type": "markdown",
      "metadata": {
        "id": "F9D5RR6XOeBp"
      },
      "source": [
        "Your code here"
      ]
    },
    {
      "cell_type": "code",
      "metadata": {
        "id": "seSHjGU7OeBq"
      },
      "source": [
        "def sigmoid(x):\n",
        "    g = 1 / (1 + np.exp(-x))\n",
        "    return g\n",
        "\n",
        "def log_likelihood(theta, x, y):\n",
        "    m = x.shape[0]\n",
        "    arg = np.dot(x, theta)  \n",
        "    log_l = np.sum(y * np.log(sigmoid(arg)) + (1-y)*np.log(1-sigmoid(arg)))/ m\n",
        "    return log_l # return the log likehood of theta according to data x and label y\n",
        "    \n",
        "\n",
        "def grad_l(theta, x, y):\n",
        "    m = x.shape[0]\n",
        "    arg = np.dot(x, theta) \n",
        "    G = (1 / m) * np.dot(y-sigmoid(arg) , x)\n",
        "    return G # return the gradient G of the log likelihood\n",
        " \n",
        "\n",
        "def gradient_ascent(theta, x, y, G, alpha=0.01, iterations=100):\n",
        "    \n",
        "    log_l_history = np.zeros(iterations)\n",
        "    theta_history = np.zeros((iterations,len(x[0])))\n",
        "    m = x.shape[0]\n",
        "    for i in range(iterations):\n",
        "        theta = theta + (alpha * grad_l(theta, x, y))\n",
        "        theta_history[i,:] = theta\n",
        "        log_l_history[i] = log_likelihood(theta,x,y)       \n",
        "        \n",
        "        \n",
        "    return theta, log_l_history, theta_history"
      ],
      "execution_count": null,
      "outputs": []
    },
    {
      "cell_type": "markdown",
      "metadata": {
        "id": "ne6TYR_GOeBu"
      },
      "source": [
        "################# Do not write below this line #################"
      ]
    },
    {
      "cell_type": "markdown",
      "metadata": {
        "id": "ItIi6pQEQ9N0"
      },
      "source": [
        "Check your grad_l implementation:\n",
        "grad_l applied to the theta_test (defined below) should provide a value for log_l_test close to the target_value (defined below); in other words the error_test should be 0, up to machine error precision."
      ]
    },
    {
      "cell_type": "code",
      "metadata": {
        "id": "yLwFebo4Q9N0",
        "outputId": "4f474a61-5bba-454b-ec2d-32db71afb3af"
      },
      "source": [
        "target_value = -0.4250958770469834\n",
        "theta_test = np.array([-2,1,2])\n",
        "log_l_test  = log_likelihood(theta_test,x,y)\n",
        "error_test=np.abs(log_l_test-target_value)\n",
        "\n",
        "print(\"{:f}\".format(error_test))"
      ],
      "execution_count": null,
      "outputs": [
        {
          "name": "stdout",
          "output_type": "stream",
          "text": [
            "0.000000\n"
          ]
        }
      ]
    },
    {
      "cell_type": "markdown",
      "metadata": {
        "id": "vjpqRLekOeBv"
      },
      "source": [
        "Let's now apply the function gradient_ascent and print the final theta as well as theta_history "
      ]
    },
    {
      "cell_type": "code",
      "metadata": {
        "colab": {
          "base_uri": "https://localhost:8080/",
          "height": 151
        },
        "id": "E9YW5A-aOeBv",
        "outputId": "2c0e0da0-f9e9-4bb7-bbc2-6d5978ac9059"
      },
      "source": [
        "# Initialize theta0\n",
        "theta0 = np.zeros(x.shape[1])\n",
        "\n",
        "# Run Gradient Ascent method\n",
        "n_iter=1000\n",
        "theta_final, log_l_history, theta_history = gradient_ascent(theta0,x,y,grad_l,alpha=0.5,iterations=n_iter)\n",
        "#n_iter=100\n",
        "#theta_final, log_l_history, theta_history = gradient_ascent(theta0,x,y,grad_l,alpha=25,iterations=n_iter)\n",
        "print(theta_final)\n",
        "print(theta_history)"
      ],
      "execution_count": null,
      "outputs": [
        {
          "name": "stdout",
          "output_type": "stream",
          "text": [
            "[-2.62008936  0.76027868  1.1719157 ]\n",
            "[[-2.52525253e-03  2.40752765e-01  2.77415313e-01]\n",
            " [-9.46624841e-02  2.41740896e-02  4.84262297e-01]\n",
            " [-7.91257819e-02  2.89805031e-01  5.87796492e-01]\n",
            " ...\n",
            " [-2.62008225e+00  7.60277115e-01  1.17191517e+00]\n",
            " [-2.62008582e+00  7.60277900e-01  1.17191543e+00]\n",
            " [-2.62008936e+00  7.60278679e-01  1.17191570e+00]]\n"
          ]
        }
      ]
    },
    {
      "cell_type": "markdown",
      "metadata": {
        "id": "aFv3R0V4OeBy"
      },
      "source": [
        "Let's plot the log likelihood over iterations"
      ]
    },
    {
      "cell_type": "code",
      "metadata": {
        "colab": {
          "base_uri": "https://localhost:8080/",
          "height": 279
        },
        "id": "8e4XivQrOeBy",
        "scrolled": true,
        "outputId": "c3b202b0-bd07-4690-d310-673f04959bb4"
      },
      "source": [
        "fig,ax = plt.subplots(num=2)\n",
        "\n",
        "ax.set_ylabel('l(Theta)')\n",
        "ax.set_xlabel('Iterations')\n",
        "_=ax.plot(range(len(log_l_history)),log_l_history,'b.')"
      ],
      "execution_count": null,
      "outputs": [
        {
          "data": {
            "image/png": "[encoded data removed]",
            "text/plain": [
              "<Figure size 432x288 with 1 Axes>"
            ]
          },
          "metadata": {
            "needs_background": "light"
          },
          "output_type": "display_data"
        }
      ]
    },
    {
      "cell_type": "markdown",
      "metadata": {
        "id": "g0sfyGRyOeB1"
      },
      "source": [
        "Plot the data and the decision boundary:"
      ]
    },
    {
      "cell_type": "code",
      "metadata": {
        "colab": {
          "base_uri": "https://localhost:8080/",
          "height": 195
        },
        "id": "KQClMhK9OeB2",
        "outputId": "73ca95f2-de91-419b-9188-f98fb9b5386f"
      },
      "source": [
        "df_x_pl=df_x.copy()\n",
        "df_y_pl=df_y.copy()\n",
        "df_x_pl.insert(0, \"y\", df_y)\n",
        "df_x_pl[\"y\"] = pd.to_numeric(df_x_pl[\"y\"], downcast='signed')\n",
        "df_x_pl.head()"
      ],
      "execution_count": null,
      "outputs": [
        {
          "data": {
            "text/html": [
              "<div>\n",
              "<style scoped>\n",
              "    .dataframe tbody tr th:only-of-type {\n",
              "        vertical-align: middle;\n",
              "    }\n",
              "\n",
              "    .dataframe tbody tr th {\n",
              "        vertical-align: top;\n",
              "    }\n",
              "\n",
              "    .dataframe thead th {\n",
              "        text-align: right;\n",
              "    }\n",
              "</style>\n",
              "<table border=\"1\" class=\"dataframe\">\n",
              "  <thead>\n",
              "    <tr style=\"text-align: right;\">\n",
              "      <th></th>\n",
              "      <th>y</th>\n",
              "      <th>x1</th>\n",
              "      <th>x2</th>\n",
              "    </tr>\n",
              "  </thead>\n",
              "  <tbody>\n",
              "    <tr>\n",
              "      <th>0</th>\n",
              "      <td>0</td>\n",
              "      <td>1.343250</td>\n",
              "      <td>-1.331148</td>\n",
              "    </tr>\n",
              "    <tr>\n",
              "      <th>1</th>\n",
              "      <td>0</td>\n",
              "      <td>1.820553</td>\n",
              "      <td>-0.634668</td>\n",
              "    </tr>\n",
              "    <tr>\n",
              "      <th>2</th>\n",
              "      <td>0</td>\n",
              "      <td>0.986321</td>\n",
              "      <td>-1.888576</td>\n",
              "    </tr>\n",
              "    <tr>\n",
              "      <th>3</th>\n",
              "      <td>0</td>\n",
              "      <td>1.944373</td>\n",
              "      <td>-1.635452</td>\n",
              "    </tr>\n",
              "    <tr>\n",
              "      <th>4</th>\n",
              "      <td>0</td>\n",
              "      <td>0.976734</td>\n",
              "      <td>-1.353315</td>\n",
              "    </tr>\n",
              "  </tbody>\n",
              "</table>\n",
              "</div>"
            ],
            "text/plain": [
              "   y        x1        x2\n",
              "0  0  1.343250 -1.331148\n",
              "1  0  1.820553 -0.634668\n",
              "2  0  0.986321 -1.888576\n",
              "3  0  1.944373 -1.635452\n",
              "4  0  0.976734 -1.353315"
            ]
          },
          "execution_count": 12,
          "metadata": {},
          "output_type": "execute_result"
        }
      ]
    },
    {
      "cell_type": "code",
      "metadata": {
        "colab": {
          "base_uri": "https://localhost:8080/",
          "height": 279
        },
        "id": "o7UgpsNFOeB4",
        "outputId": "0c716ca2-ca3c-42fc-b731-c9e3992b27c1"
      },
      "source": [
        "# Generate vector to plot decision boundary\n",
        "x1_vec = np.linspace(df_x_pl[\"x1\"].min(),df_x_pl[\"x1\"].max(),2);\n",
        "\n",
        "# Plot raw data\n",
        "sns.scatterplot(x=\"x1\", y=\"x2\", hue=\"y\", data=df_x_pl);\n",
        "\n",
        "# Plot decision boundary\n",
        "plt.plot(x1_vec,(-x1_vec*theta_final[1]-theta_final[0])/theta_final[2], color=\"red\");\n",
        "\n",
        "# Save the theta_final value for later comparisons\n",
        "theta_GA = theta_final.copy()"
      ],
      "execution_count": null,
      "outputs": [
        {
          "data": {
            "image/png": "[encoded data removed]",
            "text/plain": [
              "<Figure size 432x288 with 1 Axes>"
            ]
          },
          "metadata": {
            "needs_background": "light"
          },
          "output_type": "display_data"
        }
      ]
    },
    {
      "cell_type": "markdown",
      "metadata": {
        "id": "7VztviyAOeB7"
      },
      "source": [
        "################# Do not write above this line #################"
      ]
    },
    {
      "cell_type": "markdown",
      "metadata": {
        "id": "DeTYW9SlOeB8"
      },
      "source": [
        "Write now your considerations. Discuss in particular:\n",
        "- what effects do the learning rate $\\alpha$ and the number of iterations have on the computed $\\theta$\n",
        "- may you still achieve the same value if you decrease the learning rate $\\alpha$ and increase the number of iterations n_iter up to an infinite number of them? Why?\n",
        "- may you still achieve the same value if you increase the learning rate $\\alpha$ substantially and decrease the number of iterations n_iter? Why?\n",
        "\n",
        "Substantiate your answer with experiments and plots of the $l(\\theta)$ and the decision boundary."
      ]
    },
    {
      "cell_type": "markdown",
      "metadata": {
        "id": "Mj-YP-waQ9N2"
      },
      "source": [
        "- If we have a very small learning rate $\\alpha$, the gradient ascent could converge really slowly, on the other hand for high value of $\\alpha$ the gradient of the log-likelihood may not decrease on every iteration or may even not converge. <br> <br>\n",
        "We can see that setting $\\alpha=0.001$, $l(\\theta)$ reaches its maximum slower compared to $\\alpha=0.5$ we had before. As the plot shows with this $\\alpha$ the log-likelihood does not converge and the decision boundary does not make us good prediction."
      ]
    },
    {
      "cell_type": "markdown",
      "metadata": {
        "id": "mEVabNUZQ9N2"
      },
      "source": [
        "In order to have a better performance we can increase the number of iterations from 1000 to 100000, so a better decision boundary and $l(\\theta)$ now reaches value of 0.500 respect to the 0.688 we had before."
      ]
    },
    {
      "cell_type": "markdown",
      "metadata": {
        "id": "9wX7gANJQ9N2"
      },
      "source": [
        "In the end we can raise the learning rate ($\\alpha=2$) and see that, of course, $l(\\theta)$ grows faster but it doesn't converge it continues to fluctuate."
      ]
    },
    {
      "cell_type": "markdown",
      "metadata": {
        "id": "u3A6iFFoQ9N2"
      },
      "source": [
        "- Assuming the fact that we can do infinite iterations, choosing every value $\\alpha$ such that $\\alpha>0$ we can have convergence. If we have a learning rate close to zero, the step in the gradient ascent toward the maxima will be really short, since we assumed infinite iterations at some point we will reach the maximum whatever the length of the step is."
      ]
    },
    {
      "cell_type": "markdown",
      "metadata": {
        "id": "ublIAFOAQ9N2"
      },
      "source": [
        "may you still achieve the same value if you increase the learning rate  𝛼  substantially and decrease the number \n",
        "of iterations n_iter? Why?\n",
        "- In the case of a large value for $\\alpha$ the gradient ascent could not increase toward the maxima or even not converge, no matter the value of n_iter we choose : in the first step we could override the maxima and iteration after iteration get away from it.\n"
      ]
    },
    {
      "cell_type": "markdown",
      "metadata": {
        "id": "9Mc31XsdQ9N2"
      },
      "source": [
        "As example we can consider $\\alpha$ equal to 25 and show that we are not improving the value of $l(\\theta)$ (n_iter = 100), instead it diverges."
      ]
    },
    {
      "cell_type": "markdown",
      "metadata": {
        "id": "wOZ8520WOeB9"
      },
      "source": [
        "################# Do not write below this line #################"
      ]
    },
    {
      "cell_type": "markdown",
      "metadata": {
        "id": "UN7JwWH8OeB9"
      },
      "source": [
        "\n",
        "## [15 points] Question 2: Logistic Regression with the Newton's method"
      ]
    },
    {
      "cell_type": "markdown",
      "metadata": {
        "id": "X_lAFSxwOeB-"
      },
      "source": [
        "### (a) [5 points] Equations for the Hessian of the log likelihood\n",
        "\n",
        "Derive the equation for the Hessian matrix $H$ of the log-likelihood $l(\\theta)$ of the parameters $\\theta$.\n",
        "\n",
        "Recall that: $H_{i,j} = \\frac{\\delta^2 l(\\theta)}{\\delta \\theta_i \\delta \\theta_j}$\n",
        "\n",
        "Also write the parameter update rule for the Newton's method, as a function of the Hessian and gradient of $l(\\theta)$.\n",
        "\n",
        "Question: in order to learn the optimal $\\theta$, do you need to minimize or to maximize $\\nabla_{\\theta} l$?"
      ]
    },
    {
      "cell_type": "markdown",
      "metadata": {
        "id": "c7tXIk65OeB-"
      },
      "source": [
        "################# Do not write above this line #################"
      ]
    },
    {
      "cell_type": "markdown",
      "metadata": {
        "id": "NUTclFjBOeB_"
      },
      "source": [
        "__Hessian matrix__: <br>\n",
        "the Hessian matrix  $H$ of the log-likelihood  $l(\\theta)$  represents the second derivative of $l$ and it is a $(n+1)\\times(n+1)$ matrix and in our case $n=2$. Its formulation is:\n",
        "<center> \n",
        " $\\begin{bmatrix}\n",
        "\\frac{\\delta l^2}{\\delta\\theta_0^2} & \\frac{\\delta l^2}{\\delta\\theta_0\\delta\\theta_1} & \\frac{\\delta l^2}{\\delta\\theta_0\\delta\\theta_2} \\\\\n",
        "\\frac{\\delta l^2}{\\delta\\theta_1\\delta\\theta_0}  & \\frac{\\delta l^2}{\\delta\\theta_1^2} & \\frac{\\delta l^2}{\\delta\\theta_1\\delta\\theta_2} \\\\\n",
        "\\frac{\\delta l^2}{\\delta\\theta_2\\delta\\theta_0}  & \\frac{\\delta l^2}{\\delta\\theta_1\\delta\\theta_2}&  \\frac{\\delta l^2}{\\delta\\theta_2^2}\n",
        "\\end{bmatrix}$</center>\n",
        "\n",
        "We can explicit the element of the matrix starting from the first derivative of the log likelihood, re-derive it by $\\theta_i$ we get:\n",
        "$\\sum e^{-\\theta^Tx}h_\\theta^2(x^{(k)}) x_i^{(k)}x_j^{(k)}=\n",
        "\\sum \\left(\\frac{1}{h_\\theta(x^{(k)})}-1\\right)h_\\theta^2(x^{(k)})$, then\n",
        "<center>\n",
        "$\\dfrac{\\partial^2 l}{\\partial\\theta_i\\partial\\theta_j} = -\\sum_{k=1}^{m}{x_i^{(k)}x_j^{(k)}h_\\theta(x^{(k)})(1-h_\\theta(x^{(k)})})$ </center>"
      ]
    },
    {
      "cell_type": "markdown",
      "metadata": {
        "id": "5D_uc9cxQ9N2"
      },
      "source": [
        "__Update rule for the Newton's method__: <br>\n",
        "<center> $\\theta^{(t+1)} := \\theta^{(t)} - H^{-1} \\nabla_\\theta l(\\theta)$ </center>"
      ]
    },
    {
      "cell_type": "markdown",
      "metadata": {
        "id": "F37bQy9qQ9N2"
      },
      "source": [
        "__Question__: <br>\n",
        "we need to minimize  $\\nabla_\\theta l(\\theta)$ in order to converge to the maximum of the concave function $l(\\theta)$ ."
      ]
    },
    {
      "cell_type": "markdown",
      "metadata": {
        "id": "A2gKz7VDOeB_"
      },
      "source": [
        "################# Do not write below this line #################"
      ]
    },
    {
      "cell_type": "markdown",
      "metadata": {
        "id": "5c-C9dZeOeCA"
      },
      "source": [
        "### (b) [10 points] Implementation of logistic regression with the Newton's method\n",
        "\n",
        "Code up the equations above to learn the logistic regression parameters. Consider as data the files logistic_x.txt and logistic_y.txt. The first contains the feature values  $x^{(i)}_1$ and $x^{(i)}_2$  for the  𝑖 -th data sample  $x^{(i)}$ . The second contains the ground truth label  $y^{(i)}$  for each corresponding data sample."
      ]
    },
    {
      "cell_type": "markdown",
      "metadata": {
        "id": "L9IGQc9_OeCA"
      },
      "source": [
        "Define the Hessian function hess_l and the Newton's method function \"newton\":"
      ]
    },
    {
      "cell_type": "markdown",
      "metadata": {
        "id": "FKOYOByzOeCB"
      },
      "source": [
        "################# Do not write above this line #################"
      ]
    },
    {
      "cell_type": "markdown",
      "metadata": {
        "id": "wnDGMUuDQ9N2"
      },
      "source": [
        "$H_{i,j}=\\dfrac{\\partial^2 l}{\\partial\\theta_i\\partial\\theta_j} = -\\sum_{k=1}^{m}{x_i^{(k)}x_j^{(k)}h_\\theta(x^{(k)})(1-h_\\theta(x^{(k)})})$ </center>"
      ]
    },
    {
      "cell_type": "markdown",
      "metadata": {
        "id": "8yk_i8EhOeCB"
      },
      "source": [
        "Your code here"
      ]
    },
    {
      "cell_type": "code",
      "metadata": {
        "id": "gxH5xTi0OeCC"
      },
      "source": [
        "def hess_l(theta, x, y):\n",
        "    m=x.shape[0] \n",
        "    z = np.dot(x, theta)\n",
        "    p = sigmoid(z)\n",
        "    W = np.diag(p * (1 - p))\n",
        "    hessian = x.T.dot(W).dot(x)\n",
        "\n",
        "    return -hessian/m# return the Hessian matrix hess\n",
        "   \n",
        "\n",
        "def newton(theta0, x, y, G, H, eps):\n",
        "    theta_history = np.array([theta0])  \n",
        "    log_l_history = np.array (log_likelihood(theta0, x, y))\n",
        "    while (np.linalg.norm(grad_l(theta0,x,y)) >= eps): \n",
        "        theta0 = theta0 - np.dot(np.linalg.inv(hess_l(theta0,x,y)),  grad_l(theta0, x , y)) \n",
        "        theta_history = np.append(theta_history,[theta0], axis=0)\n",
        "        log_l_history = np.append(log_l_history, log_likelihood(theta0, x, y)) \n",
        "    \n",
        "    # return the optimized theta parameters, as well as two lists containing the log likelihood's and values of theta at all iterations\n",
        "    return theta0, theta_history, log_l_history"
      ],
      "execution_count": null,
      "outputs": []
    },
    {
      "cell_type": "markdown",
      "metadata": {
        "id": "r6z0jueTOeCG"
      },
      "source": [
        "################# Do not write below this line #################"
      ]
    },
    {
      "cell_type": "markdown",
      "metadata": {
        "id": "QM-5G5vxQ9N3"
      },
      "source": [
        "Check your hess_l implementation: hess_l applied to the theta_test (defined below) should provide a value for hess_l_test close to the target_value (defined below); in other words the error_test should be 0, up to machine error precision."
      ]
    },
    {
      "cell_type": "code",
      "metadata": {
        "id": "ocmCqTl9Q9N3",
        "scrolled": true,
        "outputId": "260e0110-48c3-4695-c854-e00ac3b15731"
      },
      "source": [
        "target_value = np.array([[-0.14357024, -0.43836134,  0.18767787], \\\n",
        "                         [-0.43836134, -1.72295801,  0.61817001], \\\n",
        "                         [ 0.18767787,  0.61817001, -0.51247901]])\n",
        "theta_test=np.array([-2,1,2])\n",
        "\n",
        "hess_l_test  = hess_l(theta_test,x,y)\n",
        "error_test=np.sum(np.abs(hess_l_test-target_value),axis=(0,1))\n",
        "\n",
        "print(\"{:f}\".format(error_test))"
      ],
      "execution_count": null,
      "outputs": [
        {
          "name": "stdout",
          "output_type": "stream",
          "text": [
            "2.879550\n"
          ]
        }
      ]
    },
    {
      "cell_type": "markdown",
      "metadata": {
        "id": "48hVqShUOeCG"
      },
      "source": [
        "Now run Newton's method to perform logistic regression:"
      ]
    },
    {
      "cell_type": "code",
      "metadata": {
        "colab": {
          "base_uri": "https://localhost:8080/",
          "height": 34
        },
        "id": "dhw9YOdVOeCH",
        "outputId": "f8bddc10-e9d3-4792-f8d4-73f1ba1d1e68"
      },
      "source": [
        "# Initialize theta0\n",
        "theta0 = np.zeros(x.shape[1])\n",
        "# Run Newton's method\n",
        "theta_final, theta_history, log_l_history = newton(theta0,x,y,grad_l,hess_l,1e-6)\n",
        "print(theta_final)"
      ],
      "execution_count": null,
      "outputs": [
        {
          "name": "stdout",
          "output_type": "stream",
          "text": [
            "[-2.62050954  0.76037096  1.17194549]\n"
          ]
        }
      ]
    },
    {
      "cell_type": "markdown",
      "metadata": {
        "id": "swC4RWi0OeCJ"
      },
      "source": [
        "Let's plot the log likelihood over iterations"
      ]
    },
    {
      "cell_type": "code",
      "metadata": {
        "colab": {
          "base_uri": "https://localhost:8080/",
          "height": 279
        },
        "id": "5TDSytMMOeCK",
        "outputId": "06d5feca-7b74-4216-a5db-deb251c7f142"
      },
      "source": [
        "fig,ax = plt.subplots(num=2)\n",
        "\n",
        "ax.set_ylabel('l(Theta)')\n",
        "ax.set_xlabel('Iterations')\n",
        "_=ax.plot(range(len(log_l_history)),log_l_history,'b.')\n"
      ],
      "execution_count": null,
      "outputs": [
        {
          "data": {
            "image/png": "[encoded data removed]",
            "text/plain": [
              "<Figure size 432x288 with 1 Axes>"
            ]
          },
          "metadata": {
            "needs_background": "light"
          },
          "output_type": "display_data"
        }
      ]
    },
    {
      "cell_type": "markdown",
      "metadata": {
        "id": "xnGtGzYDOeCN"
      },
      "source": [
        "Plot the data and our decision boundary:"
      ]
    },
    {
      "cell_type": "code",
      "metadata": {
        "colab": {
          "base_uri": "https://localhost:8080/",
          "height": 195
        },
        "id": "dhDCM-n4OeCO",
        "outputId": "383e7da5-82e7-4b61-df54-d4032a28b0eb"
      },
      "source": [
        "df_x_pl=df_x.copy()\n",
        "df_y_pl=df_y.copy()\n",
        "df_x_pl.insert(0, \"y\", df_y)\n",
        "df_x_pl[\"y\"] = pd.to_numeric(df_x_pl[\"y\"],downcast='signed')\n",
        "df_x_pl.head()"
      ],
      "execution_count": null,
      "outputs": [
        {
          "data": {
            "text/html": [
              "<div>\n",
              "<style scoped>\n",
              "    .dataframe tbody tr th:only-of-type {\n",
              "        vertical-align: middle;\n",
              "    }\n",
              "\n",
              "    .dataframe tbody tr th {\n",
              "        vertical-align: top;\n",
              "    }\n",
              "\n",
              "    .dataframe thead th {\n",
              "        text-align: right;\n",
              "    }\n",
              "</style>\n",
              "<table border=\"1\" class=\"dataframe\">\n",
              "  <thead>\n",
              "    <tr style=\"text-align: right;\">\n",
              "      <th></th>\n",
              "      <th>y</th>\n",
              "      <th>x1</th>\n",
              "      <th>x2</th>\n",
              "    </tr>\n",
              "  </thead>\n",
              "  <tbody>\n",
              "    <tr>\n",
              "      <th>0</th>\n",
              "      <td>0</td>\n",
              "      <td>1.343250</td>\n",
              "      <td>-1.331148</td>\n",
              "    </tr>\n",
              "    <tr>\n",
              "      <th>1</th>\n",
              "      <td>0</td>\n",
              "      <td>1.820553</td>\n",
              "      <td>-0.634668</td>\n",
              "    </tr>\n",
              "    <tr>\n",
              "      <th>2</th>\n",
              "      <td>0</td>\n",
              "      <td>0.986321</td>\n",
              "      <td>-1.888576</td>\n",
              "    </tr>\n",
              "    <tr>\n",
              "      <th>3</th>\n",
              "      <td>0</td>\n",
              "      <td>1.944373</td>\n",
              "      <td>-1.635452</td>\n",
              "    </tr>\n",
              "    <tr>\n",
              "      <th>4</th>\n",
              "      <td>0</td>\n",
              "      <td>0.976734</td>\n",
              "      <td>-1.353315</td>\n",
              "    </tr>\n",
              "  </tbody>\n",
              "</table>\n",
              "</div>"
            ],
            "text/plain": [
              "   y        x1        x2\n",
              "0  0  1.343250 -1.331148\n",
              "1  0  1.820553 -0.634668\n",
              "2  0  0.986321 -1.888576\n",
              "3  0  1.944373 -1.635452\n",
              "4  0  0.976734 -1.353315"
            ]
          },
          "execution_count": 18,
          "metadata": {},
          "output_type": "execute_result"
        }
      ]
    },
    {
      "cell_type": "code",
      "metadata": {
        "colab": {
          "base_uri": "https://localhost:8080/",
          "height": 279
        },
        "id": "g_5r0nW5OeCR",
        "scrolled": true,
        "outputId": "8e8e832f-a6a4-426b-ad28-77607ba8adc3"
      },
      "source": [
        "# Generate vector to plot decision boundary\n",
        "x1_vec = np.linspace(df_x_pl[\"x1\"].min(),df_x_pl[\"x1\"].max(),2);\n",
        "\n",
        "# Plot raw data\n",
        "sns.scatterplot(x=\"x1\", y=\"x2\", hue=\"y\", data=df_x_pl);\n",
        "\n",
        "# Plot decision boundary\n",
        "plt.plot(x1_vec,(-x1_vec*theta_final[1]-theta_final[0])/theta_final[2], color=\"red\");"
      ],
      "execution_count": null,
      "outputs": [
        {
          "data": {
            "image/png": "[encoded data removed]",
            "text/plain": [
              "<Figure size 432x288 with 1 Axes>"
            ]
          },
          "metadata": {
            "needs_background": "light"
          },
          "output_type": "display_data"
        }
      ]
    },
    {
      "cell_type": "markdown",
      "metadata": {
        "id": "27QoXQikOeCT"
      },
      "source": [
        "################# Do not write above this line #################"
      ]
    },
    {
      "cell_type": "markdown",
      "metadata": {
        "id": "4rPY_EKzOeCT"
      },
      "source": [
        "Write now your considerations. Discuss in particular:\n",
        "- the different convergence speed of the Newton's method, compared to Gradient Ascent\n",
        "- the incurred cost for the different convergence speed"
      ]
    },
    {
      "cell_type": "markdown",
      "metadata": {
        "id": "6uWHq-ypQ9N4"
      },
      "source": [
        "- Newton's method is way faster than the Gradient Ascent, in particular it has a quadratic convergence, so we converge to the minimum with way less iterations.\n",
        "\n",
        "- Even if the Newton's method converges faster there's a catch, in fact it has higher complexity respect Gradient Ascent due to the fact that we have to compute the inverse of the hessian matrix H which is a (n+1)x(n+1) matrix, where n represents the number of features. This computation costs $\\theta(n^3)$ and in order of millions features this algorithm is no longer convenient and we prefer to use the Gradient Ascent. In our case we have a very low value n so the Newton's method have the best performance."
      ]
    },
    {
      "cell_type": "markdown",
      "metadata": {
        "id": "po-FgiDPOeCT"
      },
      "source": [
        "################# Do not write below this line #################"
      ]
    },
    {
      "cell_type": "markdown",
      "metadata": {
        "id": "lqj8HMJMOeCU"
      },
      "source": [
        "\n",
        "## [7 points] Question 3: Logistic Regression with non linear boundaries"
      ]
    },
    {
      "cell_type": "markdown",
      "metadata": {
        "id": "C1phEkjHOeCU"
      },
      "source": [
        "### (a) Polynomial features for logistic regression\n",
        "\n",
        "Define new features, e.g. of 2nd and 3rd degrees, and learn a logistic regression classifier by using the new features, by using the Newton's optimization algorithm (or the gradient ascent one, if you like)."
      ]
    },
    {
      "cell_type": "markdown",
      "metadata": {
        "id": "dRbt5SbZPcn6"
      },
      "source": [
        "In particular, we would consider a polynomial boundary with equation:\n",
        "\n",
        "$f(x_1, x_2) = c_0 + c_1 x_1 + c_2 x_2 + c_3 x_1^2 + c_4 x_2^2 + c_5 x_1 x_2 + c_6 x_1^3 + c_7 x_2^3 + c_8 x_1^2 x_2 + c_9 x_1 x_2^2$\n",
        "\n",
        "We would therefore compute 7 new features: 3 new ones for the quadratic terms and 4 new ones for the cubic terms.\n",
        "\n",
        "Create new arrays by stacking x (from the previous questions) and the new 7 features (in the order x1x1, x2x2, x1x2, x1x1x1, x2x2x2, x1x1x2, x1x2x2). In particular create x_new_quad by additionally stacking with x the quadratic features, and x_new_cubic by additionally stacking with x the quadratic and the cubic features."
      ]
    },
    {
      "cell_type": "code",
      "metadata": {
        "id": "BQTbat6UOeCV",
        "scrolled": false,
        "outputId": "140663a6-c649-46cd-a2d4-332e77ff5f70"
      },
      "source": [
        "# First extract features x1 and x2 from x and reshape them to x1 vector arrays\n",
        "x1 = x[:,1]\n",
        "x2 = x[:,2]\n",
        "x1 = x1.reshape(x1.shape[0], 1)\n",
        "x2 = x2.reshape(x2.shape[0], 1)\n",
        "print(x[:5,:]) # For visualization of the first 5 values\n",
        "print(x1[:5,:]) # For visualization of the first 5 values\n",
        "print(x2[:5,:]) # For visualization of the first 5 values"
      ],
      "execution_count": null,
      "outputs": [
        {
          "name": "stdout",
          "output_type": "stream",
          "text": [
            "[[ 1.          1.3432504  -1.3311479 ]\n",
            " [ 1.          1.8205529  -0.6346681 ]\n",
            " [ 1.          0.98632067 -1.8885762 ]\n",
            " [ 1.          1.9443734  -1.635452  ]\n",
            " [ 1.          0.97673352 -1.3533151 ]]\n",
            "[[1.3432504 ]\n",
            " [1.8205529 ]\n",
            " [0.98632067]\n",
            " [1.9443734 ]\n",
            " [0.97673352]]\n",
            "[[-1.3311479]\n",
            " [-0.6346681]\n",
            " [-1.8885762]\n",
            " [-1.635452 ]\n",
            " [-1.3533151]]\n"
          ]
        }
      ]
    },
    {
      "cell_type": "markdown",
      "metadata": {
        "id": "rL2ZN00OOeCX"
      },
      "source": [
        "################# Do not write above this line #################"
      ]
    },
    {
      "cell_type": "markdown",
      "metadata": {
        "id": "rsyCm-uNOeCY"
      },
      "source": [
        "Your code here"
      ]
    },
    {
      "cell_type": "code",
      "metadata": {
        "id": "PaTmLypXQ9N4"
      },
      "source": [
        "# Define features: x1x1, x2x2, x1x2, x1x1x1, x2x2x2, x1x1x2, x1x2x2\n",
        "x1x1 = x1*x1\n",
        "x2x2 = x2*x2\n",
        "x1x2 = x1*x2\n",
        "x1x1x1 = x1*x1*x1\n",
        "x2x2x2 = x2*x2*x2\n",
        "x1x1x2 = x1*x1*x2\n",
        "x1x2x2 = x1*x2*x2\n",
        "\n",
        "\n",
        "x_new_quad = x\n",
        "#(x, x1x1, x2x2, x1x2)\n",
        "x_new_quad = np.append(x_new_quad, x1x1,  axis=1)  \n",
        "x_new_quad = np.append(x_new_quad, x2x2, axis=1)\n",
        "x_new_quad = np.append(x_new_quad, x1x2, axis=1)\n",
        "\n",
        "x_new_cubic = x_new_quad\n",
        "#x_new_cubic [x, x1x1, x2x2, x1x2, x1x1x1, x2x2x2, x1x1x2, x1x2x2]\n",
        "x_new_cubic = np.append(x_new_cubic, x1x1x1, axis=1)\n",
        "x_new_cubic = np.append(x_new_cubic, x2x2x2, axis=1)\n",
        "x_new_cubic = np.append(x_new_cubic, x1x1x2, axis=1)\n",
        "x_new_cubic = np.append(x_new_cubic, x1x2x2,  axis=1)"
      ],
      "execution_count": null,
      "outputs": []
    },
    {
      "cell_type": "markdown",
      "metadata": {
        "id": "_KvgwVckOeCe"
      },
      "source": [
        "################# Do not write below this line #################"
      ]
    },
    {
      "cell_type": "markdown",
      "metadata": {
        "id": "if0-ozefOeCe"
      },
      "source": [
        "Now use the Newton's optimization algorithm to learn theta by maximizing the log-likelihood, both for the case of x_new_quad and x_new_cubic.\n",
        "\n",
        "Note: you may alternatively use gradient ascent, as in Question 1, if you like."
      ]
    },
    {
      "cell_type": "code",
      "metadata": {
        "id": "rVe936XNOeCe",
        "outputId": "4b528dd7-8956-451e-b844-5ea6c0e35454"
      },
      "source": [
        "# Initialize theta0, in case of quadratic features\n",
        "theta0_quad = np.zeros(x_new_quad.shape[1])\n",
        "\n",
        "#If we choose to run the Gradient ascent\n",
        "#n_iter=1000\n",
        "#theta_final_quad, theta_history_quad, log_l_history_quad = gradient_ascent(theta0_quad, x_new_quad,y,grad_l,alpha=0.5,iterations=n_iter)\n",
        "# Run Newton's method, in case of quadratic features\n",
        "theta_final_quad, theta_history_quad, log_l_history_quad = newton(theta0_quad,x_new_quad,y,grad_l,hess_l,1e-6)\n",
        "\n",
        "# Initialize theta0, in case of quadratic and cubic features\n",
        "theta0_cubic = np.zeros(x_new_cubic.shape[1])\n",
        "\n",
        "# If we choose to run the Gradient ascent\n",
        "#n_iter=1000\n",
        "#theta_final_cubic, theta_history_cubic, log_l_history_cubic = gradient_ascent(theta0_cubic, x_new_cubic,y,grad_l,alpha=0.5,iterations=n_iter)\n",
        "\n",
        "# Run Newton's method, in case of quadratic and cubic features\n",
        "theta_final_cubic, theta_history_cubic, log_l_history_cubic = newton(theta0_cubic,x_new_cubic,y,grad_l,hess_l,1e-6)\n",
        "\n",
        "# check and compare with previous results\n",
        "print(theta_final_quad)\n",
        "print(theta_final_cubic)"
      ],
      "execution_count": null,
      "outputs": [
        {
          "name": "stdout",
          "output_type": "stream",
          "text": [
            "[-2.01513398  0.17762534  1.91642971  0.07051926  0.18229119 -0.1295329 ]\n",
            "[-15.80125013  11.84659121   8.30909256  -3.03962928   1.86524086\n",
            "  -2.79099534   0.25914767   0.14781713   0.24456441  -0.30583232]\n"
          ]
        },
        {
          "name": "stderr",
          "output_type": "stream",
          "text": [
            "C:\\Users\\gabri\\Anaconda3\\lib\\site-packages\\ipykernel_launcher.py:8: RuntimeWarning: divide by zero encountered in log\n",
            "  \n",
            "C:\\Users\\gabri\\Anaconda3\\lib\\site-packages\\ipykernel_launcher.py:8: RuntimeWarning: invalid value encountered in multiply\n",
            "  \n"
          ]
        }
      ]
    },
    {
      "cell_type": "code",
      "metadata": {
        "colab": {
          "base_uri": "https://localhost:8080/",
          "height": 279
        },
        "id": "0fdHd2L8OeCh",
        "outputId": "90db5074-51ff-458e-be72-e5bd3ae4a935"
      },
      "source": [
        "# Plot the log likelihood values in the optimization iterations, in one of the two cases.\n",
        "fig,ax = plt.subplots(num=2)\n",
        "\n",
        "ax.set_ylabel('l(Theta)')\n",
        "ax.set_xlabel('Iterations')\n",
        "_=ax.plot(range(len(log_l_history_cubic)),log_l_history_cubic,'b.')"
      ],
      "execution_count": null,
      "outputs": [
        {
          "data": {
            "image/png": "[encoded data removed]",
            "text/plain": [
              "<Figure size 432x288 with 1 Axes>"
            ]
          },
          "metadata": {
            "needs_background": "light"
          },
          "output_type": "display_data"
        }
      ]
    },
    {
      "cell_type": "markdown",
      "metadata": {
        "id": "oyHrTkyVOeCj"
      },
      "source": [
        "### (b) Plot the computed non-linear boundary and discuss the questions\n",
        "\n"
      ]
    },
    {
      "cell_type": "markdown",
      "metadata": {
        "id": "XLqrjKy9OeCj"
      },
      "source": [
        "First, define a boundary_function to compute the boundary equation for the input feature vectors $x_1$ and $x_2$, according to estimated parameters theta, both in the case of quadratic (theta_final_quad) and of quadratic and cubic features (theta_final_cubic). Refer for the equation to the introductory part of Question 3."
      ]
    },
    {
      "cell_type": "markdown",
      "metadata": {
        "id": "aRfx4RsEOeCj"
      },
      "source": [
        "################# Do not write above this line #################"
      ]
    },
    {
      "cell_type": "markdown",
      "metadata": {
        "id": "L35zTuiEQ9N6"
      },
      "source": [
        "Your code here"
      ]
    },
    {
      "cell_type": "markdown",
      "metadata": {
        "id": "TrwNTlutQ9N6"
      },
      "source": [
        "$f(x_1, x_2) = c_0 + c_1 x_1 + c_2 x_2 + c_3 x_1^2 + c_4 x_2^2 + c_5 x_1 x_2 + c_6 x_1^3 + c_7 x_2^3 + c_8 x_1^2 x_2 + c_9 x_1 x_2^2$\n"
      ]
    },
    {
      "cell_type": "code",
      "metadata": {
        "id": "Q9z3OOOdOeCk"
      },
      "source": [
        "def boundary_function(x1_vec, x2_vec, theta_final):\n",
        "    \n",
        "    x1_vec, x2_vec = np.meshgrid(x1_vec,x2_vec)\n",
        "   \n",
        "    if len(theta_final) == 6:\n",
        "        # boundary function value for features up to quadratic\n",
        "        c_0, c_1, c_2, c_3, c_4, c_5 = theta_final\n",
        "       \n",
        "        f = c_0 + c_1*x1_vec + c_2*x2_vec + c_3*x1_vec*x1_vec + c_4*x2_vec*x2_vec + c_5*x1_vec*x2_vec \n",
        "    elif len(theta_final) == 10:\n",
        "        # boundary function value for features up to cubic\n",
        "        c_0, c_1, c_2, c_3, c_4, c_5, c_6, c_7, c_8, c_9 = theta_final\n",
        "        f = c_0 + c_1*x1_vec + c_2*x2_vec + c_3*x1_vec*x1_vec + c_4*x2_vec*x2_vec + c_5*x1_vec*x2_vec + c_6*x1_vec*x1_vec*x1_vec + c_7*x2_vec*x2_vec*x2_vec + c_8*x1_vec*x1_vec*x2_vec + c_9*x1_vec*x2_vec*x2_vec\n",
        "    else:\n",
        "        raise(\"Number of Parameters is not correct\")\n",
        "        \n",
        "    return x1_vec, x2_vec, f"
      ],
      "execution_count": null,
      "outputs": []
    },
    {
      "cell_type": "markdown",
      "metadata": {
        "id": "APohoz_HOeCq"
      },
      "source": [
        "################# Do not write below this line #################"
      ]
    },
    {
      "cell_type": "markdown",
      "metadata": {
        "id": "t3VzssWWQ9N6"
      },
      "source": [
        "Now plot the decision boundaries corresponding to the theta_final_quad and theta_final_cubic solutions."
      ]
    },
    {
      "cell_type": "code",
      "metadata": {
        "colab": {
          "base_uri": "https://localhost:8080/",
          "height": 296
        },
        "id": "y8dN6C_YOeCq",
        "outputId": "7537487b-2361-4de9-8024-51b67ba30436"
      },
      "source": [
        "x1_vec = np.linspace(df_x_pl[\"x1\"].min()-1,df_x_pl[\"x1\"].max()+1,200);\n",
        "x2_vec = np.linspace(df_x_pl[\"x2\"].min()-1,df_x_pl[\"x2\"].max()+1,200);\n",
        "\n",
        "x1_vec, x2_vec, f = boundary_function(x1_vec, x2_vec, theta_final_quad)\n",
        "\n",
        "sns.scatterplot(x=\"x1\", y=\"x2\", hue=\"y\", data=df_x_pl);\n",
        "\n",
        "plt.contour(x1_vec, x2_vec, f, colors=\"red\", levels=[0])"
      ],
      "execution_count": null,
      "outputs": [
        {
          "data": {
            "text/plain": [
              "<matplotlib.contour.QuadContourSet at 0x1e6a4488588>"
            ]
          },
          "execution_count": 25,
          "metadata": {},
          "output_type": "execute_result"
        },
        {
          "data": {
            "image/png": "[encoded data removed]",
            "text/plain": [
              "<Figure size 432x288 with 1 Axes>"
            ]
          },
          "metadata": {
            "needs_background": "light"
          },
          "output_type": "display_data"
        }
      ]
    },
    {
      "cell_type": "code",
      "metadata": {
        "id": "IVq4bNItQ9N6",
        "outputId": "eeeec141-5464-42ac-aba5-2e3fbc2ca4cf"
      },
      "source": [
        "x1_vec = np.linspace(df_x_pl[\"x1\"].min()-1,df_x_pl[\"x1\"].max()+1,200);\n",
        "x2_vec = np.linspace(df_x_pl[\"x2\"].min()-1,df_x_pl[\"x2\"].max()+1,200);\n",
        "\n",
        "x1_vec, x2_vec, f = boundary_function(x1_vec, x2_vec, theta_final_cubic)\n",
        "\n",
        "sns.scatterplot(x=\"x1\", y=\"x2\", hue=\"y\", data=df_x_pl);\n",
        "\n",
        "plt.contour(x1_vec, x2_vec, f, colors=\"red\", levels=[0])"
      ],
      "execution_count": null,
      "outputs": [
        {
          "data": {
            "text/plain": [
              "<matplotlib.contour.QuadContourSet at 0x1e6a42e7e80>"
            ]
          },
          "execution_count": 26,
          "metadata": {},
          "output_type": "execute_result"
        },
        {
          "data": {
            "image/png": "[encoded data removed]",
            "text/plain": [
              "<Figure size 432x288 with 1 Axes>"
            ]
          },
          "metadata": {
            "needs_background": "light"
          },
          "output_type": "display_data"
        }
      ]
    },
    {
      "cell_type": "markdown",
      "metadata": {
        "id": "x2q06ghtctFD"
      },
      "source": [
        "################# Do not write above this line #################"
      ]
    },
    {
      "cell_type": "markdown",
      "metadata": {
        "id": "BRKJBKIoOeCt"
      },
      "source": [
        "Write now your considerations. Discuss in particular:\n",
        "- What happens if you further increase the degree of the polynomial. How would the boundary change? Would you incur underfitting or overfitting?\n",
        "- Look at the boundary of the quadratic and cubic polynomial features. Do they meet your expectations? Why? Consider in particular the classifier decision boundary in areas where there are fewer training data, i.e. where the classifier is supposed to generalize. Hint: Try changing the minimum and maximum limits in vectors x1_vec and x2_vec before plotting the boundaries.\n",
        "- Look at the values of the original features, the 2nd and 3rd degree ones. Do you expect that normalizing the input features (either by setting their range to [-1,1] or by subtracting their mean and dividing by their standard deviation) would improve the classifier? Why yes or why not?"
      ]
    },
    {
      "cell_type": "markdown",
      "metadata": {
        "id": "Xw10OAIxQ9N6"
      },
      "source": [
        "- The more  we raise the degree of the polynomia, the more the decision boundary will be accurate in dividing the target value of the training example. This means that increasing the degree we would incur in overfitting and the risk is to raise a decision boundary that can perfectly fit the training sample but it could not give the right prediction on new data."
      ]
    },
    {
      "cell_type": "markdown",
      "metadata": {
        "id": "EBLBUXR7Q9N6"
      },
      "source": [
        "- The decision boundary generated meet our expectations since they assume a particular shape (not linear) to divide the target values $y=0$ from the target values $y=1$. We can see a substantive difference between the linear, the quadratic and the cubic case, in particular paying attention to the areas with fewer data: the linear boundary has tendency to be more approximative in divinding the area in two regions while the non linear boundaries are more accurate."
      ]
    },
    {
      "cell_type": "markdown",
      "metadata": {
        "id": "PV14z-4vQ9N6"
      },
      "source": [
        "- In general and also in our case, doing feature scaling so having each feature in the range $[-1,1]$ will make the classifier faster. This is due to the fact that, from the beginning, the gradient point to the maximum because the countour plot of the cost function is described by concentric circles. Applying mean normalization and standarization allows an additional improvement in the convergence."
      ]
    },
    {
      "cell_type": "markdown",
      "metadata": {
        "id": "rqCIJlppcvpJ"
      },
      "source": [
        "################# Do not write below this line #################"
      ]
    },
    {
      "cell_type": "markdown",
      "metadata": {
        "id": "vBXW0UPaOeCt"
      },
      "source": [
        "\n",
        "## [10 points, extra, not compulsory] Question 4: Gaussian Discriminant Analysis\n",
        "\n"
      ]
    },
    {
      "cell_type": "markdown",
      "metadata": {
        "id": "7XCqvVbVOeCt"
      },
      "source": [
        "### (a) Review and implement classification with Gradient Discriminant Analysis (GDA)\n",
        "\n",
        "Recall the assumptions for GDA\n",
        "\n",
        "$\\begin{aligned} y & \\sim \\operatorname{Bernoulli}(\\phi) \\\\ x \\mid y=0 & \\sim \\mathcal{N}\\left(\\mu_{0}, \\Sigma\\right) \\\\ x \\mid y=1 & \\sim \\mathcal{N}\\left(\\mu_{1}, \\Sigma\\right) \\end{aligned}$\n",
        "\n",
        "Recall the probability distributions:\n",
        "\n",
        "$\\begin{aligned} p(y) &=\\phi^{y}(1-\\phi)^{1-y} \\\\ p(x \\mid y=0) &=\\frac{1}{(2 \\pi)^{d / 2}|\\Sigma|^{1 / 2}} \\exp \\left(-\\frac{1}{2}\\left(x-\\mu_{0}\\right)^{T} \\Sigma^{-1}\\left(x-\\mu_{0}\\right)\\right) \\\\ p(x \\mid y=1) &=\\frac{1}{(2 \\pi)^{d / 2}|\\Sigma|^{1 / 2}} \\exp \\left(-\\frac{1}{2}\\left(x-\\mu_{1}\\right)^{T} \\Sigma^{-1}\\left(x-\\mu_{1}\\right)\\right) \\end{aligned}$\n",
        "\n",
        "Overall, the parameters of the model are $\\phi, \\Sigma, \\mu_{0}$ and $\\mu_{1}$ and the log-likelihood is given by:\n",
        "\n",
        "$\\begin{aligned} \\ell\\left(\\phi, \\mu_{0}, \\mu_{1}, \\Sigma\\right) &=\\log \\prod_{i=1}^{n} p\\left(x^{(i)}, y^{(i)} ; \\phi, \\mu_{0}, \\mu_{1}, \\Sigma\\right) \\\\ &=\\log \\prod_{i=1}^{n} p\\left(x^{(i)} \\mid y^{(i)} ; \\mu_{0}, \\mu_{1}, \\Sigma\\right) p\\left(y^{(i)} ; \\phi\\right) \\end{aligned}$\n",
        "\n",
        "Parameters may be estimated by maximum likelihood estimate as follows:\n",
        "\n",
        "$\\begin{aligned} \\phi &=\\frac{1}{n} \\sum_{i=1}^{n} 1\\left\\{y^{(i)}=1\\right\\} \\\\ \\mu_{0} &=\\frac{\\sum_{i=1}^{n} 1\\left\\{y^{(i)}=0\\right\\} x^{(i)}}{\\sum_{i=1}^{n} 1\\left\\{y^{(i)}=0\\right\\}} \\\\ \\mu_{1} &=\\frac{\\sum_{i=1}^{n} 1\\left\\{y^{(i)}=1\\right\\} x^{(i)}}{\\sum_{i=1}^{n} 1\\left\\{y^{(i)}=1\\right\\}} \\\\ \\Sigma &=\\frac{1}{n} \\sum_{i=1}^{n}\\left(x^{(i)}-\\mu_{y^{(i)}}\\right)\\left(x^{(i)}-\\mu_{y^{(i)}}\\right)^{T} \\end{aligned}$\n",
        "\n",
        "Consider the data variables as from the previous questions, x and y.\n",
        "For this question, we would select features $x^{(i)}_1$ and $x^{(i)}_2$ into the new varible x12, dropping the $x_0=1$ convention."
      ]
    },
    {
      "cell_type": "markdown",
      "metadata": {
        "id": "7eguRvljQ9N6"
      },
      "source": [
        "# First extract the sole features x1 and x2 from x into an x12 array and reshape it to x2 vector arrays"
      ]
    },
    {
      "cell_type": "code",
      "metadata": {
        "id": "aj0nGgI5Q9N6",
        "scrolled": true,
        "outputId": "4d729210-64e1-405d-e65d-7281c9e5d22d"
      },
      "source": [
        "x12 = x[:,1:]\n",
        "print(x[:5,:]) # For visualization of the first 5 values\n",
        "print(x12[:5,:]) # For visualization of the first 5 values\n",
        "print(y[:5]) # For visualization of the first 5 values"
      ],
      "execution_count": null,
      "outputs": [
        {
          "name": "stdout",
          "output_type": "stream",
          "text": [
            "[[ 1.          1.3432504  -1.3311479 ]\n",
            " [ 1.          1.8205529  -0.6346681 ]\n",
            " [ 1.          0.98632067 -1.8885762 ]\n",
            " [ 1.          1.9443734  -1.635452  ]\n",
            " [ 1.          0.97673352 -1.3533151 ]]\n",
            "[[ 1.3432504  -1.3311479 ]\n",
            " [ 1.8205529  -0.6346681 ]\n",
            " [ 0.98632067 -1.8885762 ]\n",
            " [ 1.9443734  -1.635452  ]\n",
            " [ 0.97673352 -1.3533151 ]]\n",
            "[0 0 0 0 0]\n"
          ]
        }
      ]
    },
    {
      "cell_type": "markdown",
      "metadata": {
        "id": "XRYBY79CQ9N6"
      },
      "source": [
        "Now code up the equations above to learn the GDA parameters from the training data."
      ]
    },
    {
      "cell_type": "markdown",
      "metadata": {
        "id": "yPni3ByIQ9N7"
      },
      "source": [
        "\n",
        "################# Do not write above this line #################\n"
      ]
    },
    {
      "cell_type": "markdown",
      "metadata": {
        "id": "LICjGaWTQ9N7"
      },
      "source": [
        "Your code here"
      ]
    },
    {
      "cell_type": "code",
      "metadata": {
        "id": "BUcoVXwtQ9N7"
      },
      "source": [
        "def compute_phi(y):\n",
        "    phi = 0\n",
        "    for i in range(len(y)):\n",
        "        if y[i]==1:\n",
        "            phi +=1 \n",
        "    return phi/len(y)\n",
        "  \n",
        "\n",
        "\n",
        "def compute_mu0(x, y):\n",
        "    mu0 =  np.zeros(len(x[0]))\n",
        "    den = 0\n",
        "    for i in range(len(y)):\n",
        "        if y[i]==0:\n",
        "            mu0 += x[i] \n",
        "            den += 1\n",
        "            \n",
        "    return mu0/den\n",
        "\n",
        "\n",
        "\n",
        "def compute_mu1(x, y):\n",
        "    mu1 = np.zeros(len(x[0]))\n",
        "    den = 0\n",
        "    for i in range(len(y)):\n",
        "        if y[i]==1:\n",
        "            mu1 += x[i] \n",
        "            den += 1\n",
        "            \n",
        "    return mu1/den\n",
        "\n",
        "def compute_sigma(x, y, mu0, mu1):\n",
        "    sigma = np.zeros((len(x[0]),len(x[0])))    \n",
        "    for i in range(len(y)):    \n",
        "        if y[i]==0:\n",
        "            #sigma +=(x[i]-mu0)@(np.matrix(x[i])-mu0).T \n",
        "            sigma[0][0] += (x[i][0]-mu0[0])*(x[i][0]-mu0[0])\n",
        "            sigma[1][0] += (x[i][1]-mu0[1])*(x[i][0]-mu0[0])\n",
        "            sigma[0][1] += (x[i][0]-mu0[0])*(x[i][1]-mu0[1])\n",
        "            sigma[1][1] += (x[i][1]-mu0[1])*(x[i][1]-mu0[1])\n",
        "        else:\n",
        "            #sigma += (x[i]-mu1)@(np.matrix(x[i])-mu1).T \n",
        "            sigma[0][0] += (x[i][0]-mu1[0])*(x[i][0]-mu1[0])\n",
        "            sigma[1][0] += (x[i][1]-mu1[1])*(x[i][0]-mu1[0])\n",
        "            sigma[0][1] += (x[i][0]-mu1[0])*(x[i][1]-mu1[1])\n",
        "            sigma[1][1] += (x[i][1]-mu1[1])*(x[i][1]-mu1[1])\n",
        "    return sigma/len(y)\n",
        "\n",
        "\n",
        "# computing p(x|y) for the Bayes rule\n",
        "def p_x_given_y(x,mu,sigma):  \n",
        "    #den = pow(2*np.pi, len(x)/2)*pow(np.linalg.norm(sigma), 0.5)\n",
        "    den = pow(2*np.pi, len(x)/2)*pow(np.linalg.det(sigma), 0.5)\n",
        "    p = np.exp( (-0.5) * ( (x-mu)@np.linalg.inv(sigma)@((x-mu).T) ) )\n",
        "    return p/den\n"
      ],
      "execution_count": null,
      "outputs": []
    },
    {
      "cell_type": "markdown",
      "metadata": {
        "id": "7X0KeBHGEyMA"
      },
      "source": [
        "\n",
        "################# Do not write below this line #################\n"
      ]
    },
    {
      "cell_type": "code",
      "metadata": {
        "id": "fxJNWLSyQ9N7"
      },
      "source": [
        "# Support functions\n",
        "\n",
        "# Function p(y) for applying the Bayes rule\n",
        "def p_y(y,phi):\n",
        "    if y==1: return phi\n",
        "    else: return 1-phi"
      ],
      "execution_count": null,
      "outputs": []
    },
    {
      "cell_type": "code",
      "metadata": {
        "colab": {
          "base_uri": "https://localhost:8080/",
          "height": 105
        },
        "id": "VJS9V7u-hr3C",
        "outputId": "736f893a-35af-4344-bba5-752903be8abe"
      },
      "source": [
        "# Now estimate the GDA parameters\n",
        "phi = compute_phi(y)\n",
        "mu0 = compute_mu0(x12,y)\n",
        "mu1 = compute_mu1(x12,y)\n",
        "sigma = compute_sigma(x12, y, mu0, mu1)\n",
        "\n",
        "phi,mu0,mu1,sigma"
      ],
      "execution_count": null,
      "outputs": [
        {
          "data": {
            "text/plain": [
              "(0.494949494949495,\n",
              " array([ 2.93068144, -1.44476469]),\n",
              " array([4.93616668, 0.76771897]),\n",
              " array([[ 2.68174521, -0.46404053],\n",
              "        [-0.46404053,  1.88367821]]))"
            ]
          },
          "execution_count": 30,
          "metadata": {},
          "output_type": "execute_result"
        }
      ]
    },
    {
      "cell_type": "markdown",
      "metadata": {
        "id": "Q2MEcgHI0zZG"
      },
      "source": [
        "Now that we know both the distributions of $p(y)$ and $p(x|y)$, we may estimate the posterior probability for an input $x$ via Bayes Rule:\n",
        "\n",
        "\\begin{equation}\n",
        "p(y \\mid x)=\\frac{p(x \\mid y) p(y)}{p(x)}\n",
        "\\end{equation}\n",
        "where $p(x)$ is the same for both classes and may be disregarded.\n",
        "\n",
        "This is used to classify each data point, by comparing $p(y=1|x) \\propto p(x \\mid y=1) p(y=1)$ and $p(y=0|x) \\propto p(x \\mid y=0) p(y=0)$."
      ]
    },
    {
      "cell_type": "code",
      "metadata": {
        "colab": {
          "base_uri": "https://localhost:8080/",
          "height": 52
        },
        "id": "QXOCMphE-s3W",
        "scrolled": false,
        "outputId": "fb86b8d4-0a70-410e-bb29-34f5ddc4e4d6"
      },
      "source": [
        "selected_example=1\n",
        "print('Selected example =', x12[selected_example,:])\n",
        "\n",
        "# compute p(y=0|x) ~ p(x|y=0)*p(y=0)  &  p(y=1|x) ~ p(x|y=1)*p(y=1)\n",
        "\n",
        "# y=0\n",
        "print('p(y=0|x) ~', p_x_given_y(x12[selected_example,:],mu0,sigma)*p_y(0,phi))\n",
        "\n",
        "# y=1\n",
        "print('p(y=1|x) ~', p_x_given_y(x12[selected_example,:],mu1,sigma)*p_y(1,phi))"
      ],
      "execution_count": null,
      "outputs": [
        {
          "name": "stdout",
          "output_type": "stream",
          "text": [
            "Selected example = [ 1.8205529 -0.6346681]\n",
            "p(y=0|x) ~ 0.026129116841520316\n",
            "p(y=1|x) ~ 0.0020617882761784934\n"
          ]
        }
      ]
    },
    {
      "cell_type": "markdown",
      "metadata": {
        "id": "j-LisANTOeCu"
      },
      "source": [
        "### (b) Plot the estimated likelihood functions, the decision boundary and write your remarks\n"
      ]
    },
    {
      "cell_type": "code",
      "metadata": {
        "id": "TFKbq-ioQ9N7"
      },
      "source": [
        "def boundary_gda(x1_vec, x2_vec, mu0, mu1, sigma, phi):\n",
        "    \n",
        "    x1_vec, x2_vec = np.meshgrid(x1_vec,x2_vec)\n",
        "    \n",
        "    f=np.zeros(x1_vec.shape)\n",
        "    \n",
        "    for i in range(f.shape[0]):\n",
        "        for j in range(f.shape[1]):\n",
        "            x12_ij = np.array( (x1_vec[i,j],x2_vec[i,j]) )\n",
        "            f[i,j] = p_x_given_y(x12_ij,mu1,sigma)*p_y(1,phi) - p_x_given_y(x12_ij,mu0,sigma)*p_y(0,phi)\n",
        "            \n",
        "    return x1_vec, x2_vec, f\n",
        "\n",
        "\n",
        "x1_vec = np.linspace(df_x_pl[\"x1\"].min()-1,df_x_pl[\"x1\"].max()+1,200);\n",
        "x2_vec = np.linspace(df_x_pl[\"x2\"].min()-1,df_x_pl[\"x2\"].max()+1,200);\n",
        "\n",
        "x1_vec, x2_vec, f = boundary_gda(x1_vec, x2_vec, mu0, mu1, sigma, phi)"
      ],
      "execution_count": null,
      "outputs": []
    },
    {
      "cell_type": "code",
      "metadata": {
        "id": "WKKva0t0Q9N7",
        "outputId": "35e35c92-934d-45a1-eae1-cceb7d3b5f5f"
      },
      "source": [
        "from matplotlib import cm\n",
        "from scipy.stats import multivariate_normal\n",
        "\n",
        "# Define Gaussian pdfs\n",
        "rv0 = multivariate_normal(mu0, sigma)\n",
        "rv1 = multivariate_normal(mu1, sigma)\n",
        "\n",
        "pairx12 = np.dstack((x1_vec, x2_vec))\n",
        "\n",
        "# plot pdf contours\n",
        "plt.contourf(x1_vec, x2_vec, rv0.pdf(pairx12),alpha=0.5,cmap=cm.Reds)\n",
        "plt.contourf(x1_vec, x2_vec, rv1.pdf(pairx12),alpha=0.35,cmap=cm.Blues)\n",
        "\n",
        "# Add the GDA classification to the plot\n",
        "sns.scatterplot(x=\"x1\", y=\"x2\", hue=\"y\", data=df_x_pl);\n",
        "plt.contour(x1_vec, x2_vec, f, colors=\"red\", levels=[0])\n",
        "\n",
        "plt.ylim(df_x_pl[\"x2\"].min()-1,df_x_pl[\"x2\"].max()+1)\n",
        "plt.xlim(df_x_pl[\"x1\"].min()-1,df_x_pl[\"x1\"].max()+1)"
      ],
      "execution_count": null,
      "outputs": [
        {
          "data": {
            "text/plain": [
              "(-0.42920059, 8.705400599999999)"
            ]
          },
          "execution_count": 33,
          "metadata": {},
          "output_type": "execute_result"
        },
        {
          "data": {
            "image/png": "[encoded data removed]",
            "text/plain": [
              "<Figure size 432x288 with 1 Axes>"
            ]
          },
          "metadata": {
            "needs_background": "light"
          },
          "output_type": "display_data"
        }
      ]
    },
    {
      "cell_type": "code",
      "metadata": {
        "id": "4-llu4HOQ9N7",
        "outputId": "afd5d19f-7d57-44ce-876a-bf2ffcc24924"
      },
      "source": [
        "# For comparison with the Logistic Regression boundary\n",
        "\n",
        "# Generate vector to plot decision boundary\n",
        "x1vec = np.linspace(df_x_pl[\"x1\"].min()-1,df_x_pl[\"x1\"].max()+1,2)\n",
        "\n",
        "# Plot raw data\n",
        "sns.scatterplot(x=\"x1\", y=\"x2\", hue=\"y\", data=df_x_pl)\n",
        "\n",
        "# Plot decision boundary\n",
        "log, = plt.plot(x1vec,(-x1vec*theta_GA[1]-theta_GA[0])/theta_GA[2], color=\"red\")\n",
        "gda = plt.contour(x1_vec, x2_vec, f, colors=\"green\", levels=[0])\n",
        "\n",
        "plt.legend([log, gda.collections[0]],['logistic regression','GDA'])\n",
        "\n",
        "plt.ylim(df_x_pl[\"x2\"].min()-1,df_x_pl[\"x2\"].max()+1)\n",
        "plt.xlim(df_x_pl[\"x1\"].min()-1,df_x_pl[\"x1\"].max()+1)\n",
        "\n",
        "# plt.legend()\n",
        "plt.show()"
      ],
      "execution_count": null,
      "outputs": [
        {
          "data": {
            "image/png": "[encoded data removed]",
            "text/plain": [
              "<Figure size 432x288 with 1 Axes>"
            ]
          },
          "metadata": {
            "needs_background": "light"
          },
          "output_type": "display_data"
        }
      ]
    },
    {
      "cell_type": "markdown",
      "metadata": {
        "id": "xiSJyf3lOeCu"
      },
      "source": [
        "Write now your considerations. Discuss in particular:\n",
        "- Gaussian Discriminant Analysis makes stronger modelling assumptions than logistic regression. When may this be helpful and where may this be harmful?\n",
        "\n"
      ]
    },
    {
      "cell_type": "markdown",
      "metadata": {
        "id": "0W5IaG2omcrS"
      },
      "source": [
        "- Gaussian Discriminant Analysis requests three strong assumptions: <br>\n",
        "  1) $x | y=0 \\sim N(\\mu_0,\\Sigma)$; <br>\n",
        "  2) $x | y=1 \\sim N(\\mu_1,\\Sigma)$; <br>\n",
        "  3) $y \\sim Ber(\\phi)$; <br>\n",
        "  So, under general, condition is helpful to use the logistic regression which makes weaker assumption, this choice is better in terms of memory and computation time since we need less traning data. It's helpful to use the GDA if the training set is distribuited according to a gaussian because the stronger assumptions are satisfied."
      ]
    },
    {
      "cell_type": "markdown",
      "metadata": {
        "id": "p6KSzi2BOeCu"
      },
      "source": [
        "Credits for material: Andrew Ng, C. Combier"
      ]
    }
  ]
}